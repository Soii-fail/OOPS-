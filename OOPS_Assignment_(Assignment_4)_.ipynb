{
  "nbformat": 4,
  "nbformat_minor": 0,
  "metadata": {
    "colab": {
      "provenance": []
    },
    "kernelspec": {
      "name": "python3",
      "display_name": "Python 3"
    },
    "language_info": {
      "name": "python"
    }
  },
  "cells": [
    {
      "cell_type": "markdown",
      "source": [
        "# Theory Questions"
      ],
      "metadata": {
        "id": "HT_t4-4Njqow"
      }
    },
    {
      "cell_type": "markdown",
      "source": [
        "1. What is Object-Oriented Programming (OOP)?\n",
        "-> Object-Oriented Programming (OOP) is a programming paradigm that organizes code around objects, which represent real-world entities. These objects encapsulate data (attributes) and behavior (methods), enabling modular, reusable, and scalable code by utilizing core principles like encapsulation, inheritance, polymorphism, and abstraction."
      ],
      "metadata": {
        "id": "lrBBGmA5j08r"
      }
    },
    {
      "cell_type": "markdown",
      "source": [
        "2. What is a class in OOP?\n",
        "\n",
        "-> A class is a blueprint or template that defines the properties (attributes) and behaviors (methods) of objects."
      ],
      "metadata": {
        "id": "lIunNmkrkBDJ"
      }
    },
    {
      "cell_type": "markdown",
      "source": [
        "3. What is an object in OOP?"
      ],
      "metadata": {
        "id": "igQasaqNkSlv"
      }
    },
    {
      "cell_type": "markdown",
      "source": [
        "-> An object is an instance of a class, representing a specific entity with defined attributes and methods."
      ],
      "metadata": {
        "id": "L5W2AYIVkV50"
      }
    },
    {
      "cell_type": "code",
      "source": [
        "# example of class and object\n",
        "class Car:  # Class\n",
        "    def __init__(self, brand, model):\n",
        "        self.brand = brand\n",
        "        self.model = model\n",
        "\n",
        "my_car = Car(\"Toyota\", \"Corolla\")  # Object\n",
        "print(my_car.brand)  # Output: Toyota"
      ],
      "metadata": {
        "colab": {
          "base_uri": "https://localhost:8080/"
        },
        "id": "GlRbBHGHkZj8",
        "outputId": "c6cafbfd-59fd-439b-a026-a632631ab1c4"
      },
      "execution_count": 1,
      "outputs": [
        {
          "output_type": "stream",
          "name": "stdout",
          "text": [
            "Toyota\n"
          ]
        }
      ]
    },
    {
      "cell_type": "markdown",
      "source": [
        "4. What is the difference between abstraction and encapsulation?\n",
        "\n",
        "-> Abstraction focuses on hiding implementation details and showing only the essential features to the user.\n",
        "Encapsulation is about bundling data (attributes) and methods into a single unit (class) and restricting direct access using access modifiers."
      ],
      "metadata": {
        "id": "WSka8JG9khy2"
      }
    },
    {
      "cell_type": "markdown",
      "source": [
        "5. What are dunder methods in Python?\n",
        "\n",
        "-> Dunder methods (double underscore methods) are special methods in Python, defined with double underscores at the beginning and end (ex: __init__, __str__). They enable custom behavior for built-in operations like object creation, string representation, and arithmetic operations."
      ],
      "metadata": {
        "id": "oocdSaCok6ZT"
      }
    },
    {
      "cell_type": "code",
      "source": [
        "#example of dunder method\n",
        "class Demo:\n",
        "    def __init__(self, value):\n",
        "        self.value = value\n",
        "    def __str__(self):  # Custom string representation\n",
        "        return \"Value: \" + str(self.value)\n",
        "\n",
        "obj = Demo(10)\n",
        "print(obj)\n"
      ],
      "metadata": {
        "colab": {
          "base_uri": "https://localhost:8080/"
        },
        "id": "31--SvIBlKPI",
        "outputId": "f47c495d-7bfa-4533-f5ae-c65fbf1c8e73"
      },
      "execution_count": 3,
      "outputs": [
        {
          "output_type": "stream",
          "name": "stdout",
          "text": [
            "Value: 10\n"
          ]
        }
      ]
    },
    {
      "cell_type": "markdown",
      "source": [
        "6. Explain the concept of inheritance in OOP?\n",
        "\n",
        "-> Inheritance in OOP allows a class (child or subclass) to inherit attributes and methods from another class (parent or superclass). This promotes code reuse and enables the child class to extend or override the parent class's functionality."
      ],
      "metadata": {
        "id": "GTKHM39Dlftz"
      }
    },
    {
      "cell_type": "code",
      "source": [
        "class Animal:  # Parent class\n",
        "    def sound(self):\n",
        "        return \"Some sound\"\n",
        "\n",
        "class Dog(Animal):  # Child class\n",
        "    def sound(self):  # Overriding method\n",
        "        return \"Bark\"\n",
        "\n",
        "dog = Dog()\n",
        "print(dog.sound())\n"
      ],
      "metadata": {
        "colab": {
          "base_uri": "https://localhost:8080/"
        },
        "id": "9xYD0Unblu0O",
        "outputId": "724958cd-851c-48c8-ab39-fb5cf9d2a1ba"
      },
      "execution_count": 4,
      "outputs": [
        {
          "output_type": "stream",
          "name": "stdout",
          "text": [
            "Bark\n"
          ]
        }
      ]
    },
    {
      "cell_type": "markdown",
      "source": [
        "7. What is polymorphism in OOP?\n",
        "\n",
        "-> Polymorphism in OOP allows objects of different classes to be treated as objects of a common superclass. It enables methods with the same name to behave differently based on the object invoking them, promoting flexibility and code reuse.\n",
        "\n",
        "\n"
      ],
      "metadata": {
        "id": "_5H_jJPPl2a3"
      }
    },
    {
      "cell_type": "code",
      "source": [
        "class Bird:\n",
        "    def sound(self):\n",
        "        return \"Chirp\"\n",
        "\n",
        "class Dog:\n",
        "    def sound(self):\n",
        "        return \"Bark\"\n",
        "\n",
        "# Polymorphism example\n",
        "for animal in [Bird(), Dog()]:\n",
        "    print(animal.sound())\n",
        "\n"
      ],
      "metadata": {
        "colab": {
          "base_uri": "https://localhost:8080/"
        },
        "id": "8rYM6-2Tl0y0",
        "outputId": "2fc91754-b6b8-4168-f91c-3b63dfb029c3"
      },
      "execution_count": 5,
      "outputs": [
        {
          "output_type": "stream",
          "name": "stdout",
          "text": [
            "Chirp\n",
            "Bark\n"
          ]
        }
      ]
    },
    {
      "cell_type": "markdown",
      "source": [
        "8. How is encapsulation achieved in Python?\n",
        "\n",
        "-> Encapsulation in Python is achieved by bundling data (attributes) and methods within a class and controlling access to them using access modifiers:\n",
        "\n",
        "Public: Attributes and methods are accessible everywhere (e.g., self.name).\n",
        "Protected: Denoted by a single underscore (_), intended to be accessed within the class and subclasses.\n",
        "Private: Denoted by a double underscore (__), restricting direct access from outside the class.\n",
        "\n",
        "Encapsulation ensures controlled access to the class's internal data."
      ],
      "metadata": {
        "id": "G3oPV0PsmS-P"
      }
    },
    {
      "cell_type": "code",
      "source": [
        "class BankAccount:\n",
        "    def __init__(self, balance):\n",
        "        self.__balance = balance  # Private attribute\n",
        "\n",
        "    def deposit(self, amount):  # Public method\n",
        "        self.__balance += amount\n",
        "\n",
        "    def get_balance(self):  # Public method to access private data\n",
        "        return self.__balance\n",
        "\n",
        "account = BankAccount(1000)\n",
        "account.deposit(500)\n",
        "print(account.get_balance())\n",
        "\n"
      ],
      "metadata": {
        "colab": {
          "base_uri": "https://localhost:8080/"
        },
        "id": "ONZIFCnZmHjF",
        "outputId": "6bde4569-c55c-419e-80f6-c2cd83f458f0"
      },
      "execution_count": 6,
      "outputs": [
        {
          "output_type": "stream",
          "name": "stdout",
          "text": [
            "1500\n"
          ]
        }
      ]
    },
    {
      "cell_type": "markdown",
      "source": [
        "9. What is a constructor in Python?\n",
        "\n",
        "-> A constructor in Python is a special method called __init__, which is automatically called when a new object of a class is created. It is used to initialize the object's attributes with the values passed during object creation."
      ],
      "metadata": {
        "id": "WyX0jgdTmtMJ"
      }
    },
    {
      "cell_type": "code",
      "source": [
        "class Person:\n",
        "    def __init__(self, name, age):  # Constructor\n",
        "        self.name = name\n",
        "        self.age = age\n",
        "\n",
        "# Creating an object\n",
        "person1 = Person(\"John\", 30)\n",
        "print(person1.name)\n",
        "print(person1.age)\n"
      ],
      "metadata": {
        "colab": {
          "base_uri": "https://localhost:8080/"
        },
        "id": "STSBvOUTmqH9",
        "outputId": "1cddcd8c-88f6-457e-f237-2a9d1ea3c185"
      },
      "execution_count": 7,
      "outputs": [
        {
          "output_type": "stream",
          "name": "stdout",
          "text": [
            "John\n",
            "30\n"
          ]
        }
      ]
    },
    {
      "cell_type": "markdown",
      "source": [
        "10. What are class and static methods in Python?\n",
        "\n",
        "-> In Python, class methods and static methods are used to define methods that belong to the class rather than instances of the class. The key differences are:\n",
        "\n",
        "Class Method: A method that takes the class itself as the first argument (usually named cls) and is defined using the @classmethod decorator. It can modify class state but not instance state.\n",
        "\n",
        "Static Method: A method that doesn't take self or cls as the first argument and is defined using the @staticmethod decorator. It doesn't modify the class or instance state, acting like a regular function but residing within the class."
      ],
      "metadata": {
        "id": "jXkguFVLnB3R"
      }
    },
    {
      "cell_type": "code",
      "source": [
        "class MyClass:\n",
        "    class_variable = 10  # Class variable\n",
        "\n",
        "    def __init__(self, value):\n",
        "        self.value = value  # Instance variable\n",
        "\n",
        "    @classmethod\n",
        "    def class_method(cls):\n",
        "        return \"Class method, class variable: \" + str(cls.class_variable)\n",
        "\n",
        "    @staticmethod\n",
        "    def static_method():\n",
        "        return \"Static method, no access to class or instance variables\"\n",
        "\n",
        "# Usage\n",
        "obj = MyClass(5)\n",
        "print(obj.class_method())\n",
        "print(MyClass.class_method())\n",
        "print(MyClass.static_method())"
      ],
      "metadata": {
        "colab": {
          "base_uri": "https://localhost:8080/"
        },
        "id": "zJMWoM3Sm9kv",
        "outputId": "a799cbf1-31db-40e2-cce0-3498ec23c610"
      },
      "execution_count": 8,
      "outputs": [
        {
          "output_type": "stream",
          "name": "stdout",
          "text": [
            "Class method, class variable: 10\n",
            "Class method, class variable: 10\n",
            "Static method, no access to class or instance variables\n"
          ]
        }
      ]
    },
    {
      "cell_type": "markdown",
      "source": [
        "11. What is method overloading in Python?\n",
        "\n",
        "Method overloading in Python refers to the ability to define multiple methods with the same name but different parameters (such as different numbers or types of arguments)."
      ],
      "metadata": {
        "id": "HrLuU9mfnwWn"
      }
    },
    {
      "cell_type": "code",
      "source": [
        "class Calculator:\n",
        "    def add(self, a, b=0):  # Overloading by default argument\n",
        "        return a + b\n",
        "\n",
        "calc = Calculator()\n",
        "print(calc.add(10))   #  (Only one argument)\n",
        "print(calc.add(10, 5))  #  (Two arguments)"
      ],
      "metadata": {
        "colab": {
          "base_uri": "https://localhost:8080/"
        },
        "id": "0GEx9lx9ngAg",
        "outputId": "e07f0a2c-a9c5-4061-8fc6-b5bc37a77987"
      },
      "execution_count": 9,
      "outputs": [
        {
          "output_type": "stream",
          "name": "stdout",
          "text": [
            "10\n",
            "15\n"
          ]
        }
      ]
    },
    {
      "cell_type": "markdown",
      "source": [
        "12. What is method overriding in OOP?\n",
        "\n",
        "->\n",
        "Method overriding occurs when a subclass provides a specific implementation of a method that is already defined in its superclass. The method in the subclass has the same name, parameters, and signature as the method in the superclass, but it provides a different behavior. Overriding allows subclasses to modify or extend the behavior of inherited methods."
      ],
      "metadata": {
        "id": "jPZrSpsOoKn9"
      }
    },
    {
      "cell_type": "code",
      "source": [
        "class Animal:\n",
        "    def sound(self):\n",
        "        return \"Some sound\"\n",
        "\n",
        "class Dog(Animal):\n",
        "    def sound(self):  # Overriding the method\n",
        "        return \"Bark\"\n",
        "\n",
        "# Usage\n",
        "animal = Animal()\n",
        "dog = Dog()\n",
        "print(animal.sound())\n",
        "print(dog.sound())\n"
      ],
      "metadata": {
        "colab": {
          "base_uri": "https://localhost:8080/"
        },
        "id": "DqiKecfDoDqf",
        "outputId": "c1460db1-bd82-4658-acc0-4270e940d4a4"
      },
      "execution_count": 10,
      "outputs": [
        {
          "output_type": "stream",
          "name": "stdout",
          "text": [
            "Some sound\n",
            "Bark\n"
          ]
        }
      ]
    },
    {
      "cell_type": "markdown",
      "source": [
        "In this example, the Dog class overrides the sound method of the Animal class to provide its own specific behavior."
      ],
      "metadata": {
        "id": "NEhtCtSYoTzi"
      }
    },
    {
      "cell_type": "markdown",
      "source": [
        "13. What is a property decorator in Python?\n",
        "\n",
        "-> The property decorator is used to define a method as a getter for a class attribute, allowing us to access the method like an attribute. It helps in defining getter, setter, and deleter methods while keeping the syntax simple."
      ],
      "metadata": {
        "id": "as8Vj_9soYLJ"
      }
    },
    {
      "cell_type": "code",
      "source": [
        "class Circle:\n",
        "    def __init__(self, radius):\n",
        "        self._radius = radius\n",
        "\n",
        "    @property  # Getter method\n",
        "    def radius(self):\n",
        "        return self._radius\n",
        "\n",
        "    @radius.setter  # Setter method\n",
        "    def radius(self, value):\n",
        "        if value < 0:\n",
        "            raise ValueError(\"Radius cannot be negative\")\n",
        "        self._radius = value\n",
        "\n",
        "    @property  # Getter method for area\n",
        "    def area(self):\n",
        "        return 3.14 * (self._radius ** 2)\n",
        "\n",
        "# Usage\n",
        "circle = Circle(5)\n",
        "print(circle.radius)\n",
        "print(circle.area)\n",
        "circle.radius = 10\n",
        "print(circle.area)\n"
      ],
      "metadata": {
        "colab": {
          "base_uri": "https://localhost:8080/"
        },
        "id": "SDgx-igBo1oP",
        "outputId": "9547d04f-c96e-4f35-f750-1cf46c475526"
      },
      "execution_count": 11,
      "outputs": [
        {
          "output_type": "stream",
          "name": "stdout",
          "text": [
            "5\n",
            "78.5\n",
            "314.0\n"
          ]
        }
      ]
    },
    {
      "cell_type": "markdown",
      "source": [
        "In this example, the radius method is decorated with @property, making it accessible like an attribute. The setter method ensures the radius cannot be negative, and the area is calculated dynamically based on the radius."
      ],
      "metadata": {
        "id": "WVOfw0IwpFEy"
      }
    },
    {
      "cell_type": "markdown",
      "source": [
        "14. Why is polymorphism important in OOP?\n",
        "\n",
        "-> Code Reusability: Polymorphism allows the same method to work on different types of objects, reducing the need for redundant code.\n",
        "\n",
        "Flexibility: It enables writing more generic code that can interact with different classes, enhancing flexibility in handling different types of objects.\n",
        "\n",
        "Ease of Maintenance: Changes made to the superclass methods automatically reflect in the subclasses, reducing maintenance efforts.\n",
        "\n",
        "Extensibility: New classes can be added without changing the existing code, making the system more scalable and easier to extend."
      ],
      "metadata": {
        "id": "PgV_H3EmpPpV"
      }
    },
    {
      "cell_type": "markdown",
      "source": [
        "15. What is an abstract class in Python?\n",
        "\n",
        "-> An abstract class is a class that cannot be instantiated and typically contains abstract methods that must be implemented by subclasses. It is defined using the abc module."
      ],
      "metadata": {
        "id": "bt8Hp91-piwg"
      }
    },
    {
      "cell_type": "code",
      "source": [
        "from abc import ABC, abstractmethod\n",
        "\n",
        "class Animal(ABC):\n",
        "    @abstractmethod\n",
        "    def sound(self):\n",
        "        pass\n",
        "\n",
        "class Dog(Animal):\n",
        "    def sound(self):\n",
        "        return \"Bark\"\n",
        "\n",
        "dog = Dog()\n",
        "print(dog.sound())\n"
      ],
      "metadata": {
        "colab": {
          "base_uri": "https://localhost:8080/"
        },
        "id": "gaVp9V5rpPV1",
        "outputId": "0ea3ed2d-e922-4457-d443-5c305b060c7f"
      },
      "execution_count": 12,
      "outputs": [
        {
          "output_type": "stream",
          "name": "stdout",
          "text": [
            "Bark\n"
          ]
        }
      ]
    },
    {
      "cell_type": "markdown",
      "source": [
        "16. What are the advantages of OOP?\n",
        "\n",
        "-> Modularity: OOP organizes code into classes and objects, making it easier to manage and maintain.\n",
        "\n",
        "Reusability: Code can be reused across different projects and programs, reducing redundancy.\n",
        "\n",
        "Scalability: OOP supports inheritance, making it easy to extend and modify code without affecting existing functionality.\n",
        "\n",
        "Maintainability: It enhances code organization, making it easier to understand, debug, and update over time."
      ],
      "metadata": {
        "id": "Y8yv0_eyqCV_"
      }
    },
    {
      "cell_type": "markdown",
      "source": [
        "17. What is the difference between a class variable and an instance variable?\n",
        "\n",
        "-> Class variables are shared by all instances of a class, meaning they have the same value across all objects of that class.\n",
        "Instance variables are unique to each instance, with different values for each object."
      ],
      "metadata": {
        "id": "_pbV2vXxqHcZ"
      }
    },
    {
      "cell_type": "code",
      "source": [
        "class MyClass:\n",
        "    class_var = 10  # Class variable\n",
        "\n",
        "    def __init__(self, value):\n",
        "        self.instance_var = value  # Instance variable\n",
        "\n",
        "obj1 = MyClass(5)\n",
        "obj2 = MyClass(7)\n",
        "print(obj1.class_var, obj1.instance_var)\n",
        "print(obj2.class_var, obj2.instance_var)\n"
      ],
      "metadata": {
        "colab": {
          "base_uri": "https://localhost:8080/"
        },
        "id": "bEm3DhtDpEMw",
        "outputId": "75968609-0acf-4998-8ac0-9d9a7906b162"
      },
      "execution_count": 13,
      "outputs": [
        {
          "output_type": "stream",
          "name": "stdout",
          "text": [
            "10 5\n",
            "10 7\n"
          ]
        }
      ]
    },
    {
      "cell_type": "markdown",
      "source": [
        "18. What is multiple inheritance in Python?\n",
        "\n",
        "-> Multiple inheritance in Python allows a class to inherit from more than one parent class, enabling the child class to access attributes and methods from all parent classes."
      ],
      "metadata": {
        "id": "6fmlcW6DqgmP"
      }
    },
    {
      "cell_type": "code",
      "source": [
        "class A:\n",
        "    def method_A(self):\n",
        "        return \"Method A\"\n",
        "\n",
        "class B:\n",
        "    def method_B(self):\n",
        "        return \"Method B\"\n",
        "\n",
        "class C(A, B):  # Multiple inheritance\n",
        "    pass\n",
        "\n",
        "obj = C()\n",
        "print(obj.method_A())\n",
        "print(obj.method_B())\n"
      ],
      "metadata": {
        "colab": {
          "base_uri": "https://localhost:8080/"
        },
        "id": "svlsqW4rqWkL",
        "outputId": "06443f8d-44c6-4d99-ffdc-ebbe64231693"
      },
      "execution_count": 14,
      "outputs": [
        {
          "output_type": "stream",
          "name": "stdout",
          "text": [
            "Method A\n",
            "Method B\n"
          ]
        }
      ]
    },
    {
      "cell_type": "markdown",
      "source": [
        "19. Explain the purpose of ‘’__str__’ and ‘__repr__’ ‘ methods in Python?\n",
        "\n",
        "-> The `__str__` and `__repr__` methods in Python are used to define how an object is represented as a string:\n",
        "\n",
        "- `__str__`: The purpose is to provide a human-readable string representation of the object. It is used when we print or display the object.\n",
        "  \n",
        "- `__repr__`: The purpose is to provide an unambiguous string representation of the object, typically used for debugging. It aims to provide a string that, when passed to `eval()`, would recreate the object (if possible)."
      ],
      "metadata": {
        "id": "QKhBnbhCqw0z"
      }
    },
    {
      "cell_type": "code",
      "source": [
        "class MyClass:\n",
        "    def __init__(self, value):\n",
        "        self.value = value\n",
        "\n",
        "    def __str__(self):\n",
        "        return \"Value is \" + str(self.value)  # Human-readable string\n",
        "\n",
        "    def __repr__(self):\n",
        "        return \"MyClass(\" + repr(self.value) + \")\" #provides a technical representation of the object.\n",
        "\n",
        "obj = MyClass(10)\n",
        "print(str(obj))\n",
        "print(repr(obj))"
      ],
      "metadata": {
        "id": "FeC_zPXZql4A"
      },
      "execution_count": null,
      "outputs": []
    },
    {
      "cell_type": "markdown",
      "source": [
        "20. What is the significance of the ‘super()’ function in Python?\n",
        "\n",
        "-> The super() function in Python is used to call a method from a parent class within a subclass. It is commonly used to extend or override methods from the parent class.\n"
      ],
      "metadata": {
        "id": "obRbgPKcrfZR"
      }
    },
    {
      "cell_type": "code",
      "source": [
        "class Parent:\n",
        "    def greet(self):\n",
        "        return \"Hello from Parent!\"\n",
        "\n",
        "class Child(Parent):\n",
        "    def greet(self):\n",
        "        return super().greet() + \" and Child!\"\n",
        "\n",
        "obj = Child()\n",
        "print(obj.greet())\n"
      ],
      "metadata": {
        "colab": {
          "base_uri": "https://localhost:8080/"
        },
        "id": "BE_74qrwrwvS",
        "outputId": "e392f150-a3ba-462c-947c-0a03afa29aea"
      },
      "execution_count": 15,
      "outputs": [
        {
          "output_type": "stream",
          "name": "stdout",
          "text": [
            "Hello from Parent! and Child!\n"
          ]
        }
      ]
    },
    {
      "cell_type": "markdown",
      "source": [
        "In this example, super().greet() calls the greet method from the Parent class."
      ],
      "metadata": {
        "id": "YO9Pg5inrzvh"
      }
    },
    {
      "cell_type": "markdown",
      "source": [
        "21. What is the significance of the __del__ method in Python?\n",
        "\n",
        "-> The __del__ method in Python is a destructor method that is called when an object is about to be destroyed, allowing us to clean up resources or perform final actions before the object is deleted."
      ],
      "metadata": {
        "id": "3Cls-kTDr2FF"
      }
    },
    {
      "cell_type": "code",
      "source": [
        "class MyClass:\n",
        "    def __del__(self):\n",
        "        print(\"Object is being deleted\")\n",
        "\n",
        "obj = MyClass()\n",
        "del obj\n"
      ],
      "metadata": {
        "colab": {
          "base_uri": "https://localhost:8080/"
        },
        "id": "cKsqk4KhrzOY",
        "outputId": "50046ed8-db8a-42ef-fedd-52908b8b26ac"
      },
      "execution_count": 16,
      "outputs": [
        {
          "output_type": "stream",
          "name": "stdout",
          "text": [
            "Object is being deleted\n"
          ]
        }
      ]
    },
    {
      "cell_type": "markdown",
      "source": [
        "22. What is the difference between @staticmethod and @classmethod in Python?\n",
        "\n",
        "-> @staticmethod: A method that does not take self or cls as the first argument and is used when the method does not need access to the instance or class.\n",
        "\n",
        "@classmethod: A method that takes cls as the first argument and can access class-level data but not instance data."
      ],
      "metadata": {
        "id": "0AMVMW_RsP7s"
      }
    },
    {
      "cell_type": "code",
      "source": [
        "class MyClass:\n",
        "    class_var = 10\n",
        "\n",
        "    @staticmethod\n",
        "    def static_method():\n",
        "        return \"This is a static method\"\n",
        "\n",
        "    @classmethod\n",
        "    def class_method(cls):\n",
        "        return \"Class variable: \" + str(cls.class_var)\n",
        "\n",
        "obj = MyClass()\n",
        "print(obj.static_method())\n",
        "print(obj.class_method())\n"
      ],
      "metadata": {
        "colab": {
          "base_uri": "https://localhost:8080/"
        },
        "id": "ggptkjwSsFQP",
        "outputId": "58ef1404-e93d-41c9-d12d-d97eef2ca62f"
      },
      "execution_count": 17,
      "outputs": [
        {
          "output_type": "stream",
          "name": "stdout",
          "text": [
            "This is a static method\n",
            "Class variable: 10\n"
          ]
        }
      ]
    },
    {
      "cell_type": "markdown",
      "source": [
        "23. How does polymorphism work in Python with inheritance?\n",
        "\n",
        "-> Polymorphism in Python allows different classes to define methods with the same name, and the appropriate method is called based on the object type, even if it’s accessed through a reference to a parent class.\n",
        "\n"
      ],
      "metadata": {
        "id": "5o7SC3g1sYgQ"
      }
    },
    {
      "cell_type": "code",
      "source": [
        "class Animal:\n",
        "    def sound(self):\n",
        "        return \"Some sound\"\n",
        "\n",
        "class Dog(Animal):\n",
        "    def sound(self):\n",
        "        return \"Bark\"\n",
        "\n",
        "animal = Animal()\n",
        "dog = Dog()\n",
        "print(animal.sound())\n",
        "print(dog.sound())\n"
      ],
      "metadata": {
        "id": "iNYoLBiSsXnE"
      },
      "execution_count": null,
      "outputs": []
    },
    {
      "cell_type": "markdown",
      "source": [
        "In this example, both Animal and Dog have a sound() method, but the method called depends on the object type (Dog or Animal)."
      ],
      "metadata": {
        "id": "g5qBDLn7smS4"
      }
    },
    {
      "cell_type": "markdown",
      "source": [
        "24. What is method chaining in Python OOP?\n",
        "\n",
        "-> Method chaining in Python allows us to call multiple methods on the same object in a single statement. Each method returns the object itself, enabling the next method to be called on that object.\n"
      ],
      "metadata": {
        "id": "lbJXjtizsoGI"
      }
    },
    {
      "cell_type": "code",
      "source": [
        "class MyClass:\n",
        "    def __init__(self):\n",
        "        self.value = 0\n",
        "\n",
        "    def increment(self):\n",
        "        self.value += 1\n",
        "        return self\n",
        "\n",
        "    def multiply(self, factor):\n",
        "        self.value *= factor\n",
        "        return self\n",
        "\n",
        "obj = MyClass()\n",
        "obj.increment().increment().multiply(2)\n",
        "print(obj.value)\n"
      ],
      "metadata": {
        "colab": {
          "base_uri": "https://localhost:8080/"
        },
        "id": "CoAlACzEsyb9",
        "outputId": "bb88fab8-b6a5-49e7-bf01-bafab816c580"
      },
      "execution_count": 18,
      "outputs": [
        {
          "output_type": "stream",
          "name": "stdout",
          "text": [
            "4\n"
          ]
        }
      ]
    },
    {
      "cell_type": "markdown",
      "source": [
        "In this example, the methods increment() and multiply() are chained together, modifying the object's state step by step."
      ],
      "metadata": {
        "id": "pwClxOoYs2pi"
      }
    },
    {
      "cell_type": "markdown",
      "source": [
        "25. What is the purpose of the __call__ method in Python?\n",
        "\n",
        "-> The __call__ method in Python allows an instance of a class to be called like a function. It is used to define behavior when an object is invoked directly."
      ],
      "metadata": {
        "id": "V0Ov7BfLs3tG"
      }
    },
    {
      "cell_type": "code",
      "source": [
        "class MyClass:\n",
        "    def __init__(self, value):\n",
        "        self.value = value\n",
        "\n",
        "    def __call__(self, increment):\n",
        "        self.value += increment\n",
        "        return self.value\n",
        "\n",
        "obj = MyClass(5)\n",
        "print(obj(3))\n"
      ],
      "metadata": {
        "colab": {
          "base_uri": "https://localhost:8080/"
        },
        "id": "Wghm3hFZs1WV",
        "outputId": "a4c58b1c-2e2d-4796-8ba2-3e38b1f56072"
      },
      "execution_count": 19,
      "outputs": [
        {
          "output_type": "stream",
          "name": "stdout",
          "text": [
            "8\n"
          ]
        }
      ]
    },
    {
      "cell_type": "markdown",
      "source": [
        "In this example, obj(3) calls the __call__ method, modifying the object's state."
      ],
      "metadata": {
        "id": "RHc_RaoBtF3f"
      }
    },
    {
      "cell_type": "markdown",
      "source": [
        "# Practical Questions"
      ],
      "metadata": {
        "id": "mf_qW3mbtNVg"
      }
    },
    {
      "cell_type": "code",
      "source": [
        "''' 1.  Create a parent class Animal with a method speak() that prints a generic message. Create a child class Dog\n",
        "that overrides the speak() method to print \"Bark!\". '''\n",
        "class Animal:\n",
        "    def speak(self):\n",
        "        print(\"Some generic animal sound\")\n",
        "\n",
        "class Dog(Animal):\n",
        "    def speak(self):\n",
        "        print(\"Bark!\")\n",
        "\n",
        "dog = Dog()\n",
        "dog.speak()"
      ],
      "metadata": {
        "colab": {
          "base_uri": "https://localhost:8080/"
        },
        "id": "BpbALd43jV0j",
        "outputId": "50208d44-3056-4a19-fa26-3f0cb3cdb926"
      },
      "execution_count": null,
      "outputs": [
        {
          "output_type": "stream",
          "name": "stdout",
          "text": [
            "Bark!\n"
          ]
        }
      ]
    },
    {
      "cell_type": "code",
      "source": [
        "'''2. Write a program to create an abstract class Shape with a method area(). Derive classes Circle and Rectangle\n",
        " from it and implement the area() method in both.'''\n",
        "\n",
        "from abc import ABC, abstractmethod\n",
        "\n",
        "class Shape(ABC):\n",
        "    @abstractmethod\n",
        "    def area(self):\n",
        "        pass\n",
        "\n",
        "class Circle(Shape):\n",
        "    def __init__(self, radius):\n",
        "        self.radius = radius\n",
        "\n",
        "    def area(self):\n",
        "        return 3.14 * self.radius ** 2\n",
        "\n",
        "class Rectangle(Shape):\n",
        "    def __init__(self, width, height):\n",
        "        self.width = width\n",
        "        self.height = height\n",
        "\n",
        "    def area(self):\n",
        "        return self.width * self.height\n",
        "\n",
        "circle = Circle(5)\n",
        "print(circle.area())\n",
        "rectangle = Rectangle(4, 6)\n",
        "print(rectangle.area())\n"
      ],
      "metadata": {
        "colab": {
          "base_uri": "https://localhost:8080/"
        },
        "id": "rLw-zaoCjrpJ",
        "outputId": "7cb723a9-25e8-4bdb-fc77-311f9bf28325"
      },
      "execution_count": null,
      "outputs": [
        {
          "output_type": "stream",
          "name": "stdout",
          "text": [
            "78.5\n",
            "24\n"
          ]
        }
      ]
    },
    {
      "cell_type": "code",
      "source": [
        "'''3. Implement a multi-level inheritance scenario where a class Vehicle has an attribute type. Derive a class Car\n",
        "and further derive a class ElectricCar that adds a battery attribute.'''\n",
        "\n",
        "class Vehicle:\n",
        "    def __init__(self, type):\n",
        "        self.type = type\n",
        "\n",
        "class Car(Vehicle):\n",
        "    def __init__(self, type, model):\n",
        "        super().__init__(type)\n",
        "        self.model = model\n",
        "\n",
        "class ElectricCar(Car):\n",
        "    def __init__(self, type, model, battery):\n",
        "        super().__init__(type, model)\n",
        "        self.battery = battery\n",
        "\n",
        "electric_car = ElectricCar(\"Electric\", \"Tesla Model S\", \"100 kWh\")\n",
        "print(electric_car.type, electric_car.model, electric_car.battery)"
      ],
      "metadata": {
        "id": "_uYaoutCj7qv",
        "colab": {
          "base_uri": "https://localhost:8080/"
        },
        "outputId": "d17bbac8-ed96-4ad2-ecc1-dcce2e82c27d"
      },
      "execution_count": 20,
      "outputs": [
        {
          "output_type": "stream",
          "name": "stdout",
          "text": [
            "Electric Tesla Model S 100 kWh\n"
          ]
        }
      ]
    },
    {
      "cell_type": "code",
      "source": [
        "'''4.  Implement a multi-level inheritance scenario where a class Vehicle has an attribute type. Derive a class Car\n",
        "and further derive a class ElectricCar that adds a battery attribute.'''\n",
        "\n",
        "class Vehicle:\n",
        "    def __init__(self, type):\n",
        "        self.type = type\n",
        "\n",
        "class Car(Vehicle):\n",
        "    def __init__(self, type, model):\n",
        "        super().__init__(type)\n",
        "        self.model = model\n",
        "\n",
        "class ElectricCar(Car):\n",
        "    def __init__(self, type, model, battery):\n",
        "        super().__init__(type, model)\n",
        "        self.battery = battery\n",
        "\n",
        "electric_car = ElectricCar(\"Electric\", \"Tesla Model S\", \"100 kWh\")\n",
        "print(electric_car.type, electric_car.model, electric_car.battery)\n"
      ],
      "metadata": {
        "colab": {
          "base_uri": "https://localhost:8080/"
        },
        "id": "4PKTtuqekL53",
        "outputId": "4a524780-2399-4f5a-f56d-80d1f96348a8"
      },
      "execution_count": null,
      "outputs": [
        {
          "output_type": "stream",
          "name": "stdout",
          "text": [
            "Electric Tesla Model S 100 kWh\n"
          ]
        }
      ]
    },
    {
      "cell_type": "code",
      "source": [
        "'''5. Write a program to demonstrate encapsulation by creating a class BankAccount with private attributes balance and methods to deposit,\n",
        "withdraw, and check balance.'''\n",
        "\n",
        "class BankAccount:\n",
        "    def __init__(self, balance):\n",
        "        self.__balance = balance\n",
        "\n",
        "    def deposit(self, amount):\n",
        "        if amount > 0:\n",
        "            self.__balance += amount\n",
        "\n",
        "    def withdraw(self, amount):\n",
        "        if 0 < amount <= self.__balance:\n",
        "            self.__balance -= amount\n",
        "\n",
        "    def check_balance(self):\n",
        "        return self.__balance\n",
        "\n",
        "account = BankAccount(1000)\n",
        "account.deposit(500)\n",
        "account.withdraw(200)\n",
        "print(account.check_balance())"
      ],
      "metadata": {
        "colab": {
          "base_uri": "https://localhost:8080/"
        },
        "id": "XbdrLOb8kWSa",
        "outputId": "2e61ef63-5c7e-4efb-dcf3-b1dc7c30c1a7"
      },
      "execution_count": null,
      "outputs": [
        {
          "output_type": "stream",
          "name": "stdout",
          "text": [
            "1300\n"
          ]
        }
      ]
    },
    {
      "cell_type": "code",
      "source": [
        "'''6. Demonstrate runtime polymorphism using a method play() in a base class Instrument. Derive classes Guitar\n",
        "and Piano that implement their own version of play().'''\n",
        "\n",
        "class Instrument:\n",
        "    def play(self):\n",
        "        print(\"Playing an instrument\")\n",
        "\n",
        "class Guitar(Instrument):\n",
        "    def play(self):\n",
        "        print(\"Strumming the guitar\")\n",
        "\n",
        "class Piano(Instrument):\n",
        "    def play(self):\n",
        "        print(\"Playing the piano\")\n",
        "\n",
        "guitar = Guitar()\n",
        "guitar.play()\n",
        "piano = Piano()\n",
        "piano.play()"
      ],
      "metadata": {
        "colab": {
          "base_uri": "https://localhost:8080/"
        },
        "id": "Ar7Wr1PskhKt",
        "outputId": "be9ca1f1-1010-467f-ed2e-7470cbbf3ef0"
      },
      "execution_count": null,
      "outputs": [
        {
          "output_type": "stream",
          "name": "stdout",
          "text": [
            "Strumming the guitar\n",
            "Playing the piano\n"
          ]
        }
      ]
    },
    {
      "cell_type": "code",
      "source": [
        "'''7. Create a class MathOperations with a class method add_numbers() to add two numbers and a static\n",
        "method subtract_numbers() to subtract two numbers. '''\n",
        "\n",
        "class MathOperations:\n",
        "    @classmethod\n",
        "    def add_numbers(cls, a, b):\n",
        "        return a + b\n",
        "\n",
        "    @staticmethod\n",
        "    def subtract_numbers(a, b):\n",
        "        return a - b\n",
        "\n",
        "print(MathOperations.add_numbers(3, 4))\n",
        "print(MathOperations.subtract_numbers(10, 4))"
      ],
      "metadata": {
        "colab": {
          "base_uri": "https://localhost:8080/"
        },
        "id": "5GfzVb7ok2cB",
        "outputId": "acc24087-84f8-4cf7-f0c3-a2f0ff60f5ae"
      },
      "execution_count": null,
      "outputs": [
        {
          "output_type": "stream",
          "name": "stdout",
          "text": [
            "7\n",
            "6\n"
          ]
        }
      ]
    },
    {
      "cell_type": "code",
      "source": [
        "'''8.  Implement a class Person with a class method to count the total number of persons created.'''\n",
        "\n",
        "class Person:\n",
        "    total_persons = 0\n",
        "\n",
        "    def __init__(self, name, age):\n",
        "        self.name = name\n",
        "        self.age = age\n",
        "        Person.total_persons += 1\n",
        "\n",
        "    @classmethod\n",
        "    def count_persons(cls):\n",
        "        return cls.total_persons\n",
        "\n",
        "person1 = Person(\"Alice\", 25)\n",
        "person2 = Person(\"Bob\", 30)\n",
        "print(Person.count_persons())"
      ],
      "metadata": {
        "colab": {
          "base_uri": "https://localhost:8080/"
        },
        "id": "ShW_4yXVk__g",
        "outputId": "f4e27128-b8fb-4336-9a89-9616b1ab9e48"
      },
      "execution_count": null,
      "outputs": [
        {
          "output_type": "stream",
          "name": "stdout",
          "text": [
            "2\n"
          ]
        }
      ]
    },
    {
      "cell_type": "code",
      "source": [
        "'''9. Write a class Fraction with attributes numerator and denominator. Override the str method to display the\n",
        "fraction as \"numerator/denominator\". '''\n",
        "\n",
        "class Fraction:\n",
        "    def __init__(self, numerator, denominator):\n",
        "        self.numerator = numerator\n",
        "        self.denominator = denominator\n",
        "\n",
        "    def __str__(self):\n",
        "        return f\"{self.numerator}/{self.denominator}\"\n",
        "\n",
        "fraction = Fraction(3, 4)\n",
        "print(str(fraction))"
      ],
      "metadata": {
        "colab": {
          "base_uri": "https://localhost:8080/"
        },
        "id": "mk5-Swa-lL9N",
        "outputId": "7fe09fd7-9855-4ad2-dc58-c9e58623e121"
      },
      "execution_count": null,
      "outputs": [
        {
          "output_type": "stream",
          "name": "stdout",
          "text": [
            "3/4\n"
          ]
        }
      ]
    },
    {
      "cell_type": "code",
      "source": [
        "'''10. Demonstrate operator overloading by creating a class Vector and overriding the add method to add two\n",
        "vectors. '''\n",
        "\n",
        "class Vector:\n",
        "    def __init__(self, x, y):\n",
        "        self.x = x\n",
        "        self.y = y\n",
        "\n",
        "    def __add__(self, other):\n",
        "        return Vector(self.x + other.x, self.y + other.y)\n",
        "\n",
        "    def __str__(self):\n",
        "        return f\"({self.x}, {self.y})\"\n",
        "\n",
        "v1 = Vector(2, 3)\n",
        "v2 = Vector(4, 5)\n",
        "v3 = v1 + v2\n",
        "print(v3)\n"
      ],
      "metadata": {
        "colab": {
          "base_uri": "https://localhost:8080/"
        },
        "id": "ICTVvoUalTuS",
        "outputId": "7db6a09c-cfb5-4a8d-a941-b596bfd4da31"
      },
      "execution_count": null,
      "outputs": [
        {
          "output_type": "stream",
          "name": "stdout",
          "text": [
            "(6, 8)\n"
          ]
        }
      ]
    },
    {
      "cell_type": "code",
      "source": [
        "'''11. Create a class Person with attributes name and age. Add a method greet() that prints \"Hello, my name is\n",
        "{name} and I am {age} years old.\" '''\n",
        "\n",
        "class Person:\n",
        "    def __init__(self, name, age):\n",
        "        self.name = name\n",
        "        self.age = age\n",
        "\n",
        "    def greet(self):\n",
        "        print(f\"Hello, my name is {self.name} and I am {self.age} years old.\")\n",
        "\n",
        "person = Person(\"Alice\", 30)\n",
        "person.greet()\n"
      ],
      "metadata": {
        "colab": {
          "base_uri": "https://localhost:8080/"
        },
        "id": "fmw1j1SyldZf",
        "outputId": "e9b18e33-711a-4554-906f-33c8ce794a7f"
      },
      "execution_count": null,
      "outputs": [
        {
          "output_type": "stream",
          "name": "stdout",
          "text": [
            "Hello, my name is Alice and I am 30 years old.\n"
          ]
        }
      ]
    },
    {
      "cell_type": "code",
      "source": [
        "'''12.  Implement a class Student with attributes name and grades. Create a method average_grade() to compute\n",
        "the average of the grades.'''\n",
        "\n",
        "class Student:\n",
        "    def __init__(self, name, grades):\n",
        "        self.name = name\n",
        "        self.grades = grades\n",
        "\n",
        "    def average_grade(self):\n",
        "        return sum(self.grades) / len(self.grades)\n",
        "\n",
        "student = Student(\"Alice\", [90, 85, 88])\n",
        "print(student.average_grade())\n"
      ],
      "metadata": {
        "colab": {
          "base_uri": "https://localhost:8080/"
        },
        "id": "zqIrdS0Xln_V",
        "outputId": "d172c6be-5de4-4e66-b6d5-d8b2240bee5e"
      },
      "execution_count": null,
      "outputs": [
        {
          "output_type": "stream",
          "name": "stdout",
          "text": [
            "87.66666666666667\n"
          ]
        }
      ]
    },
    {
      "cell_type": "code",
      "source": [
        "'''13.  Create a class Rectangle with methods set_dimensions() to set the dimensions and area() to calculate the\n",
        "area. '''\n",
        "\n",
        "class Rectangle:\n",
        "    def __init__(self):\n",
        "        self.width = 0\n",
        "        self.height = 0\n",
        "\n",
        "    def set_dimensions(self, width, height):\n",
        "        self.width = width\n",
        "        self.height = height\n",
        "\n",
        "    def area(self):\n",
        "        return self.width * self.height\n",
        "\n",
        "rectangle = Rectangle()\n",
        "rectangle.set_dimensions(4, 5)\n",
        "print(rectangle.area())"
      ],
      "metadata": {
        "colab": {
          "base_uri": "https://localhost:8080/"
        },
        "id": "kwqr420wly6Z",
        "outputId": "fb17c22b-9ed3-48cb-932f-0b95e26538f7"
      },
      "execution_count": null,
      "outputs": [
        {
          "output_type": "stream",
          "name": "stdout",
          "text": [
            "20\n"
          ]
        }
      ]
    },
    {
      "cell_type": "code",
      "source": [
        "'''14. Create a class Employee with a method calculate_salary() that computes the salary based on hours worked\n",
        "and hourly rate. Create a derived class Manager that adds a bonus to the salary. '''\n",
        "\n",
        "class Employee:\n",
        "    def __init__(self, hours_worked, hourly_rate):\n",
        "        self.hours_worked = hours_worked\n",
        "        self.hourly_rate = hourly_rate\n",
        "\n",
        "    def calculate_salary(self):\n",
        "        return self.hours_worked * self.hourly_rate\n",
        "\n",
        "class Manager(Employee):\n",
        "    def __init__(self, hours_worked, hourly_rate, bonus):\n",
        "        super().__init__(hours_worked, hourly_rate)\n",
        "        self.bonus = bonus\n",
        "\n",
        "    def calculate_salary(self):\n",
        "        return super().calculate_salary() + self.bonus\n",
        "\n",
        "employee = Employee(40, 20)\n",
        "print(employee.calculate_salary())\n",
        "manager = Manager(40, 20, 500)\n",
        "print(manager.calculate_salary())"
      ],
      "metadata": {
        "colab": {
          "base_uri": "https://localhost:8080/"
        },
        "id": "yymHeNT4mKfl",
        "outputId": "a7df726d-df7b-4c8d-c049-f4f2dca8dea1"
      },
      "execution_count": null,
      "outputs": [
        {
          "output_type": "stream",
          "name": "stdout",
          "text": [
            "800\n",
            "1300\n"
          ]
        }
      ]
    },
    {
      "cell_type": "code",
      "source": [
        "'''15. Create a class Product with attributes name, price, and quantity. Implement a method total_price() that\n",
        "calculates the total price of the product. '''\n",
        "\n",
        "class Product:\n",
        "    def __init__(self, name, price, quantity):\n",
        "        self.name = name\n",
        "        self.price = price\n",
        "        self.quantity = quantity\n",
        "\n",
        "    def total_price(self):\n",
        "        return self.price * self.quantity\n",
        "\n",
        "product = Product(\"Laptop\", 1000, 2)\n",
        "print(product.total_price())"
      ],
      "metadata": {
        "colab": {
          "base_uri": "https://localhost:8080/"
        },
        "id": "_H734fjMmVla",
        "outputId": "768b9fdb-99f1-43b2-d4e2-5502147b2fa8"
      },
      "execution_count": null,
      "outputs": [
        {
          "output_type": "stream",
          "name": "stdout",
          "text": [
            "2000\n"
          ]
        }
      ]
    },
    {
      "cell_type": "code",
      "source": [
        "'''16.  Create a class Animal with an abstract method sound(). Create two derived classes Cow and Sheep that\n",
        "implement the sound() method. '''\n",
        "\n",
        "from abc import ABC, abstractmethod\n",
        "\n",
        "class Animal(ABC):\n",
        "    @abstractmethod\n",
        "    def sound(self):\n",
        "        pass\n",
        "\n",
        "class Cow(Animal):\n",
        "    def sound(self):\n",
        "        print(\"Moo\")\n",
        "\n",
        "class Sheep(Animal):\n",
        "    def sound(self):\n",
        "        print(\"Baa\")\n",
        "\n",
        "cow = Cow()\n",
        "cow.sound()\n",
        "sheep = Sheep()\n",
        "sheep.sound()"
      ],
      "metadata": {
        "colab": {
          "base_uri": "https://localhost:8080/"
        },
        "id": "kGCW_GHOmu8A",
        "outputId": "e8058c3f-bf2e-45e6-81c7-c40c6a5d5580"
      },
      "execution_count": null,
      "outputs": [
        {
          "output_type": "stream",
          "name": "stdout",
          "text": [
            "Moo\n",
            "Baa\n"
          ]
        }
      ]
    },
    {
      "cell_type": "code",
      "source": [
        "'''17. Create a class Book with attributes title, author, and year_published. Add a method get_book_info() that\n",
        "returns a formatted string with the book's details.'''\n",
        "\n",
        "class Book:\n",
        "    def __init__(self, title, author, year_published):\n",
        "        self.title = title\n",
        "        self.author = author\n",
        "        self.year_published = year_published\n",
        "\n",
        "    def get_book_info(self):\n",
        "        return f\"Title: {self.title}, Author: {self.author}, Year Published: {self.year_published}\"\n",
        "\n",
        "book = Book(\"1984\", \"George Orwell\", 1949)\n",
        "print(book.get_book_info())"
      ],
      "metadata": {
        "colab": {
          "base_uri": "https://localhost:8080/"
        },
        "id": "m0lLFq8xnQef",
        "outputId": "08d9fd66-a198-472f-9f0b-49e4a3bc5379"
      },
      "execution_count": null,
      "outputs": [
        {
          "output_type": "stream",
          "name": "stdout",
          "text": [
            "Title: 1984, Author: George Orwell, Year Published: 1949\n"
          ]
        }
      ]
    },
    {
      "cell_type": "code",
      "source": [
        "'''18. Create a class House with attributes address and price. Create a derived class Mansion that adds an attribute number_of_rooms.'''\n",
        "\n",
        "class House:\n",
        "    def __init__(self, address, price):\n",
        "        self.address = address\n",
        "        self.price = price\n",
        "\n",
        "class Mansion(House):\n",
        "    def __init__(self, address, price, number_of_rooms):\n",
        "        super().__init__(address, price)\n",
        "        self.number_of_rooms = number_of_rooms\n",
        "\n",
        "mansion = Mansion(\"123 Luxury St\", 1000000, 10)\n",
        "print(mansion.address, mansion.price, mansion.number_of_rooms)"
      ],
      "metadata": {
        "colab": {
          "base_uri": "https://localhost:8080/"
        },
        "id": "M25bfglLnoho",
        "outputId": "ca21b283-3592-403f-aa3b-fab9b498c50a"
      },
      "execution_count": null,
      "outputs": [
        {
          "output_type": "stream",
          "name": "stdout",
          "text": [
            "123 Luxury St 1000000 10\n"
          ]
        }
      ]
    }
  ]
}